{
 "cells": [
  {
   "cell_type": "code",
   "execution_count": 2,
   "metadata": {},
   "outputs": [],
   "source": [
    "import pandas as pd\n",
    "import seaborn as sns \n",
    "import numpy as np\n",
    "from sklearn.model_selection import train_test_split\n",
    "from sklearn.feature_extraction.text import CountVectorizer, TfidfVectorizer\n",
    "from sklearn.pipeline import Pipeline\n",
    "from sklearn.metrics import classification_report\n",
    "from sklearn.feature_extraction.text import TfidfTransformer\n",
    "from sklearn.linear_model import SGDClassifier\n",
    "from sklearn.naive_bayes import MultinomialNB, GaussianNB, BernoulliNB\n",
    "from sklearn.metrics import accuracy_score\n",
    "import matplotlib.pyplot as plt\n",
    "%matplotlib inline \n"
   ]
  },
  {
   "cell_type": "markdown",
   "metadata": {},
   "source": [
    "### Linear SVM (Stochastic Gradient Descent)"
   ]
  },
  {
   "cell_type": "markdown",
   "metadata": {},
   "source": [
    "A stochastic gradient descent classifier is a linear classifier that is optimized by the stochastic gradient descent."
   ]
  },
  {
   "cell_type": "code",
   "execution_count": 7,
   "metadata": {},
   "outputs": [
    {
     "data": {
      "text/html": [
       "<div>\n",
       "<style scoped>\n",
       "    .dataframe tbody tr th:only-of-type {\n",
       "        vertical-align: middle;\n",
       "    }\n",
       "\n",
       "    .dataframe tbody tr th {\n",
       "        vertical-align: top;\n",
       "    }\n",
       "\n",
       "    .dataframe thead th {\n",
       "        text-align: right;\n",
       "    }\n",
       "</style>\n",
       "<table border=\"1\" class=\"dataframe\">\n",
       "  <thead>\n",
       "    <tr style=\"text-align: right;\">\n",
       "      <th></th>\n",
       "      <th>Unnamed: 0</th>\n",
       "      <th>rating</th>\n",
       "      <th>cleaned_review</th>\n",
       "    </tr>\n",
       "  </thead>\n",
       "  <tbody>\n",
       "    <tr>\n",
       "      <th>0</th>\n",
       "      <td>0</td>\n",
       "      <td>6</td>\n",
       "      <td>helps keep attention class seems make keep gri...</td>\n",
       "    </tr>\n",
       "    <tr>\n",
       "      <th>1</th>\n",
       "      <td>1</td>\n",
       "      <td>10</td>\n",
       "      <td>medicine amazing used always last one turn tes...</td>\n",
       "    </tr>\n",
       "    <tr>\n",
       "      <th>2</th>\n",
       "      <td>2</td>\n",
       "      <td>4</td>\n",
       "      <td>hyper focused dry mouth straterra put state ma...</td>\n",
       "    </tr>\n",
       "    <tr>\n",
       "      <th>3</th>\n",
       "      <td>3</td>\n",
       "      <td>8</td>\n",
       "      <td>adhd taking adderall years take morning someti...</td>\n",
       "    </tr>\n",
       "    <tr>\n",
       "      <th>4</th>\n",
       "      <td>4</td>\n",
       "      <td>9</td>\n",
       "      <td>keeps focused however wears sleep till hours l...</td>\n",
       "    </tr>\n",
       "    <tr>\n",
       "      <th>...</th>\n",
       "      <td>...</td>\n",
       "      <td>...</td>\n",
       "      <td>...</td>\n",
       "    </tr>\n",
       "    <tr>\n",
       "      <th>215026</th>\n",
       "      <td>215026</td>\n",
       "      <td>6</td>\n",
       "      <td>first day took medicine disturbed suddenly not...</td>\n",
       "    </tr>\n",
       "    <tr>\n",
       "      <th>215027</th>\n",
       "      <td>215027</td>\n",
       "      <td>5</td>\n",
       "      <td>medication somewhat helpful stiffness pain sti...</td>\n",
       "    </tr>\n",
       "    <tr>\n",
       "      <th>215028</th>\n",
       "      <td>215028</td>\n",
       "      <td>1</td>\n",
       "      <td>prescribed mg pain right shoulder collar bone ...</td>\n",
       "    </tr>\n",
       "    <tr>\n",
       "      <th>215029</th>\n",
       "      <td>215029</td>\n",
       "      <td>9</td>\n",
       "      <td>helpful frozen shoulder pain side effects</td>\n",
       "    </tr>\n",
       "    <tr>\n",
       "      <th>215030</th>\n",
       "      <td>215030</td>\n",
       "      <td>5</td>\n",
       "      <td>medication somewhat helpful stiffness pain sti...</td>\n",
       "    </tr>\n",
       "  </tbody>\n",
       "</table>\n",
       "<p>215031 rows × 3 columns</p>\n",
       "</div>"
      ],
      "text/plain": [
       "        Unnamed: 0  rating                                     cleaned_review\n",
       "0                0       6  helps keep attention class seems make keep gri...\n",
       "1                1      10  medicine amazing used always last one turn tes...\n",
       "2                2       4  hyper focused dry mouth straterra put state ma...\n",
       "3                3       8  adhd taking adderall years take morning someti...\n",
       "4                4       9  keeps focused however wears sleep till hours l...\n",
       "...            ...     ...                                                ...\n",
       "215026      215026       6  first day took medicine disturbed suddenly not...\n",
       "215027      215027       5  medication somewhat helpful stiffness pain sti...\n",
       "215028      215028       1  prescribed mg pain right shoulder collar bone ...\n",
       "215029      215029       9          helpful frozen shoulder pain side effects\n",
       "215030      215030       5  medication somewhat helpful stiffness pain sti...\n",
       "\n",
       "[215031 rows x 3 columns]"
      ]
     },
     "execution_count": 7,
     "metadata": {},
     "output_type": "execute_result"
    }
   ],
   "source": [
    "clf_data = pd.read_csv('complete_project_data.csv')\n",
    "clf_data"
   ]
  },
  {
   "cell_type": "code",
   "execution_count": 8,
   "metadata": {},
   "outputs": [],
   "source": [
    "# \n",
    "x = clf_data['cleaned_review']\n",
    "y = clf_data['rating']\n",
    "\n",
    "x_train,x_test,y_train,y_test = train_test_split(x,y,test_size=.30, random_state=0)"
   ]
  },
  {
   "cell_type": "code",
   "execution_count": 9,
   "metadata": {},
   "outputs": [],
   "source": [
    "# Classification Pipeline\n",
    "\n",
    "sgd_clf_pipeline = Pipeline([('tfidf', TfidfVectorizer()),\n",
    "                ('clf', SGDClassifier(loss='hinge', penalty='l2',alpha=1e-3, random_state=42, max_iter=5, tol=None)),\n",
    "               ])"
   ]
  },
  {
   "cell_type": "code",
   "execution_count": 10,
   "metadata": {},
   "outputs": [],
   "source": [
    "# Fitting + Prediction\n",
    "sgd_clf_pipeline.fit(x_train.values.astype('U'), y_train)\n",
    "sgd_prediction = sgd_clf_pipeline.predict(x_test.values.astype('U'))"
   ]
  },
  {
   "cell_type": "code",
   "execution_count": 13,
   "metadata": {},
   "outputs": [
    {
     "name": "stdout",
     "output_type": "stream",
     "text": [
      "===============Stochastic Gradient Descent===============\n",
      "              precision    recall  f1-score   support\n",
      "\n",
      "           1       0.49      0.63      0.55      8779\n",
      "           2       0.20      0.08      0.12      2741\n",
      "           3       0.25      0.09      0.13      2558\n",
      "           4       0.21      0.12      0.15      1996\n",
      "           5       0.26      0.11      0.16      3257\n",
      "           6       0.22      0.10      0.14      2513\n",
      "           7       0.26      0.11      0.15      3838\n",
      "           8       0.30      0.14      0.19      7683\n",
      "           9       0.28      0.12      0.17     10911\n",
      "          10       0.47      0.88      0.61     20234\n",
      "\n",
      "    accuracy                           0.42     64510\n",
      "   macro avg       0.30      0.24      0.24     64510\n",
      "weighted avg       0.36      0.42      0.35     64510\n",
      "\n"
     ]
    }
   ],
   "source": [
    "# Accuracy + Classification Report\n",
    "print('===============Stochastic Gradient Descent===============')\n",
    "print(classification_report(y_test, sgd_prediction))"
   ]
  },
  {
   "cell_type": "markdown",
   "metadata": {},
   "source": [
    "As training set size grows, accuracy increases. Displayed in rating 10.\n"
   ]
  },
  {
   "cell_type": "markdown",
   "metadata": {},
   "source": [
    "### Naive Bayes "
   ]
  },
  {
   "cell_type": "code",
   "execution_count": 15,
   "metadata": {},
   "outputs": [
    {
     "name": "stdout",
     "output_type": "stream",
     "text": [
      "================= Bernoulli Naive Bayes =================\n",
      "              precision    recall  f1-score   support\n",
      "\n",
      "           1       0.47      0.66      0.55      8779\n",
      "           2       0.31      0.11      0.16      2741\n",
      "           3       0.28      0.11      0.16      2558\n",
      "           4       0.42      0.05      0.09      1996\n",
      "           5       0.24      0.16      0.19      3257\n",
      "           6       0.48      0.04      0.07      2513\n",
      "           7       0.33      0.09      0.14      3838\n",
      "           8       0.31      0.25      0.28      7683\n",
      "           9       0.34      0.33      0.33     10911\n",
      "          10       0.50      0.74      0.60     20234\n",
      "\n",
      "    accuracy                           0.43     64510\n",
      "   macro avg       0.37      0.25      0.26     64510\n",
      "weighted avg       0.40      0.43      0.39     64510\n",
      "\n"
     ]
    }
   ],
   "source": [
    "# Bernoulli Naive Bayes Classifier\n",
    "bern_clf = Pipeline([('tfidf', TfidfVectorizer()),\n",
    "                ('clf', BernoulliNB()),\n",
    "               ])\n",
    "\n",
    "# Fitting + Prediction\n",
    "bern_clf.fit(x_train.values.astype('U'),y_train)\n",
    "bern_prediction = bern_clf.predict(x_test.values.astype('U'))\n",
    "\n",
    "# Accuracy + Classification Report\n",
    "print('================= Bernoulli Naive Bayes =================')\n",
    "print(classification_report(y_test,bern_prediction))"
   ]
  },
  {
   "cell_type": "code",
   "execution_count": 68,
   "metadata": {},
   "outputs": [
    {
     "ename": "TypeError",
     "evalue": "A sparse matrix was passed, but dense data is required. Use X.toarray() to convert to a dense numpy array.",
     "output_type": "error",
     "traceback": [
      "\u001b[1;31m---------------------------------------------------------------------------\u001b[0m",
      "\u001b[1;31mTypeError\u001b[0m                                 Traceback (most recent call last)",
      "\u001b[1;32mc:\\Users\\adeloatc\\Desktop\\USD - Arin\\Introduction to Artificial Intelligence\\Final Project\\Predicting-Drug-Ratings-Based-on-Patient-Review\\src\\classifiers.ipynb Cell 11\u001b[0m line \u001b[0;36m<cell line: 7>\u001b[1;34m()\u001b[0m\n\u001b[0;32m      <a href='vscode-notebook-cell:/c%3A/Users/adeloatc/Desktop/USD%20-%20Arin/Introduction%20to%20Artificial%20Intelligence/Final%20Project/Predicting-Drug-Ratings-Based-on-Patient-Review/src/classifiers.ipynb#X14sZmlsZQ%3D%3D?line=1'>2</a>\u001b[0m gauss_nb \u001b[39m=\u001b[39m Pipeline([(\u001b[39m'\u001b[39m\u001b[39mtfidf\u001b[39m\u001b[39m'\u001b[39m, TfidfVectorizer()),\n\u001b[0;32m      <a href='vscode-notebook-cell:/c%3A/Users/adeloatc/Desktop/USD%20-%20Arin/Introduction%20to%20Artificial%20Intelligence/Final%20Project/Predicting-Drug-Ratings-Based-on-Patient-Review/src/classifiers.ipynb#X14sZmlsZQ%3D%3D?line=2'>3</a>\u001b[0m                 (\u001b[39m'\u001b[39m\u001b[39mclf\u001b[39m\u001b[39m'\u001b[39m, GaussianNB()),\n\u001b[0;32m      <a href='vscode-notebook-cell:/c%3A/Users/adeloatc/Desktop/USD%20-%20Arin/Introduction%20to%20Artificial%20Intelligence/Final%20Project/Predicting-Drug-Ratings-Based-on-Patient-Review/src/classifiers.ipynb#X14sZmlsZQ%3D%3D?line=3'>4</a>\u001b[0m                ])\n\u001b[0;32m      <a href='vscode-notebook-cell:/c%3A/Users/adeloatc/Desktop/USD%20-%20Arin/Introduction%20to%20Artificial%20Intelligence/Final%20Project/Predicting-Drug-Ratings-Based-on-Patient-Review/src/classifiers.ipynb#X14sZmlsZQ%3D%3D?line=5'>6</a>\u001b[0m \u001b[39m# Fitting + Prediction\u001b[39;00m\n\u001b[1;32m----> <a href='vscode-notebook-cell:/c%3A/Users/adeloatc/Desktop/USD%20-%20Arin/Introduction%20to%20Artificial%20Intelligence/Final%20Project/Predicting-Drug-Ratings-Based-on-Patient-Review/src/classifiers.ipynb#X14sZmlsZQ%3D%3D?line=6'>7</a>\u001b[0m gauss_nb\u001b[39m.\u001b[39;49mfit(x_train\u001b[39m.\u001b[39;49mvalues\u001b[39m.\u001b[39;49mastype(\u001b[39m'\u001b[39;49m\u001b[39mU\u001b[39;49m\u001b[39m'\u001b[39;49m),y_train)\n\u001b[0;32m      <a href='vscode-notebook-cell:/c%3A/Users/adeloatc/Desktop/USD%20-%20Arin/Introduction%20to%20Artificial%20Intelligence/Final%20Project/Predicting-Drug-Ratings-Based-on-Patient-Review/src/classifiers.ipynb#X14sZmlsZQ%3D%3D?line=7'>8</a>\u001b[0m gauss_prediction \u001b[39m=\u001b[39m gauss_nb\u001b[39m.\u001b[39mpredict(x_test\u001b[39m.\u001b[39mvalues\u001b[39m.\u001b[39mastype(\u001b[39m'\u001b[39m\u001b[39mU\u001b[39m\u001b[39m'\u001b[39m))\n\u001b[0;32m     <a href='vscode-notebook-cell:/c%3A/Users/adeloatc/Desktop/USD%20-%20Arin/Introduction%20to%20Artificial%20Intelligence/Final%20Project/Predicting-Drug-Ratings-Based-on-Patient-Review/src/classifiers.ipynb#X14sZmlsZQ%3D%3D?line=9'>10</a>\u001b[0m \u001b[39m# Accuracy + Classification Report\u001b[39;00m\n",
      "File \u001b[1;32m~\\AppData\\Local\\Packages\\PythonSoftwareFoundation.Python.3.10_qbz5n2kfra8p0\\LocalCache\\local-packages\\Python310\\site-packages\\sklearn\\pipeline.py:394\u001b[0m, in \u001b[0;36mPipeline.fit\u001b[1;34m(self, X, y, **fit_params)\u001b[0m\n\u001b[0;32m    392\u001b[0m     \u001b[39mif\u001b[39;00m \u001b[39mself\u001b[39m\u001b[39m.\u001b[39m_final_estimator \u001b[39m!=\u001b[39m \u001b[39m\"\u001b[39m\u001b[39mpassthrough\u001b[39m\u001b[39m\"\u001b[39m:\n\u001b[0;32m    393\u001b[0m         fit_params_last_step \u001b[39m=\u001b[39m fit_params_steps[\u001b[39mself\u001b[39m\u001b[39m.\u001b[39msteps[\u001b[39m-\u001b[39m\u001b[39m1\u001b[39m][\u001b[39m0\u001b[39m]]\n\u001b[1;32m--> 394\u001b[0m         \u001b[39mself\u001b[39m\u001b[39m.\u001b[39m_final_estimator\u001b[39m.\u001b[39mfit(Xt, y, \u001b[39m*\u001b[39m\u001b[39m*\u001b[39mfit_params_last_step)\n\u001b[0;32m    396\u001b[0m \u001b[39mreturn\u001b[39;00m \u001b[39mself\u001b[39m\n",
      "File \u001b[1;32m~\\AppData\\Local\\Packages\\PythonSoftwareFoundation.Python.3.10_qbz5n2kfra8p0\\LocalCache\\local-packages\\Python310\\site-packages\\sklearn\\naive_bayes.py:245\u001b[0m, in \u001b[0;36mGaussianNB.fit\u001b[1;34m(self, X, y, sample_weight)\u001b[0m\n\u001b[0;32m    222\u001b[0m \u001b[39m\"\"\"Fit Gaussian Naive Bayes according to X, y.\u001b[39;00m\n\u001b[0;32m    223\u001b[0m \n\u001b[0;32m    224\u001b[0m \u001b[39mParameters\u001b[39;00m\n\u001b[1;32m   (...)\u001b[0m\n\u001b[0;32m    242\u001b[0m \u001b[39m    Returns the instance itself.\u001b[39;00m\n\u001b[0;32m    243\u001b[0m \u001b[39m\"\"\"\u001b[39;00m\n\u001b[0;32m    244\u001b[0m y \u001b[39m=\u001b[39m \u001b[39mself\u001b[39m\u001b[39m.\u001b[39m_validate_data(y\u001b[39m=\u001b[39my)\n\u001b[1;32m--> 245\u001b[0m \u001b[39mreturn\u001b[39;00m \u001b[39mself\u001b[39;49m\u001b[39m.\u001b[39;49m_partial_fit(\n\u001b[0;32m    246\u001b[0m     X, y, np\u001b[39m.\u001b[39;49munique(y), _refit\u001b[39m=\u001b[39;49m\u001b[39mTrue\u001b[39;49;00m, sample_weight\u001b[39m=\u001b[39;49msample_weight\n\u001b[0;32m    247\u001b[0m )\n",
      "File \u001b[1;32m~\\AppData\\Local\\Packages\\PythonSoftwareFoundation.Python.3.10_qbz5n2kfra8p0\\LocalCache\\local-packages\\Python310\\site-packages\\sklearn\\naive_bayes.py:402\u001b[0m, in \u001b[0;36mGaussianNB._partial_fit\u001b[1;34m(self, X, y, classes, _refit, sample_weight)\u001b[0m\n\u001b[0;32m    399\u001b[0m     \u001b[39mself\u001b[39m\u001b[39m.\u001b[39mclasses_ \u001b[39m=\u001b[39m \u001b[39mNone\u001b[39;00m\n\u001b[0;32m    401\u001b[0m first_call \u001b[39m=\u001b[39m _check_partial_fit_first_call(\u001b[39mself\u001b[39m, classes)\n\u001b[1;32m--> 402\u001b[0m X, y \u001b[39m=\u001b[39m \u001b[39mself\u001b[39;49m\u001b[39m.\u001b[39;49m_validate_data(X, y, reset\u001b[39m=\u001b[39;49mfirst_call)\n\u001b[0;32m    403\u001b[0m \u001b[39mif\u001b[39;00m sample_weight \u001b[39mis\u001b[39;00m \u001b[39mnot\u001b[39;00m \u001b[39mNone\u001b[39;00m:\n\u001b[0;32m    404\u001b[0m     sample_weight \u001b[39m=\u001b[39m _check_sample_weight(sample_weight, X)\n",
      "File \u001b[1;32m~\\AppData\\Local\\Packages\\PythonSoftwareFoundation.Python.3.10_qbz5n2kfra8p0\\LocalCache\\local-packages\\Python310\\site-packages\\sklearn\\base.py:581\u001b[0m, in \u001b[0;36mBaseEstimator._validate_data\u001b[1;34m(self, X, y, reset, validate_separately, **check_params)\u001b[0m\n\u001b[0;32m    579\u001b[0m         y \u001b[39m=\u001b[39m check_array(y, \u001b[39m*\u001b[39m\u001b[39m*\u001b[39mcheck_y_params)\n\u001b[0;32m    580\u001b[0m     \u001b[39melse\u001b[39;00m:\n\u001b[1;32m--> 581\u001b[0m         X, y \u001b[39m=\u001b[39m check_X_y(X, y, \u001b[39m*\u001b[39m\u001b[39m*\u001b[39mcheck_params)\n\u001b[0;32m    582\u001b[0m     out \u001b[39m=\u001b[39m X, y\n\u001b[0;32m    584\u001b[0m \u001b[39mif\u001b[39;00m \u001b[39mnot\u001b[39;00m no_val_X \u001b[39mand\u001b[39;00m check_params\u001b[39m.\u001b[39mget(\u001b[39m\"\u001b[39m\u001b[39mensure_2d\u001b[39m\u001b[39m\"\u001b[39m, \u001b[39mTrue\u001b[39;00m):\n",
      "File \u001b[1;32m~\\AppData\\Local\\Packages\\PythonSoftwareFoundation.Python.3.10_qbz5n2kfra8p0\\LocalCache\\local-packages\\Python310\\site-packages\\sklearn\\utils\\validation.py:964\u001b[0m, in \u001b[0;36mcheck_X_y\u001b[1;34m(X, y, accept_sparse, accept_large_sparse, dtype, order, copy, force_all_finite, ensure_2d, allow_nd, multi_output, ensure_min_samples, ensure_min_features, y_numeric, estimator)\u001b[0m\n\u001b[0;32m    961\u001b[0m \u001b[39mif\u001b[39;00m y \u001b[39mis\u001b[39;00m \u001b[39mNone\u001b[39;00m:\n\u001b[0;32m    962\u001b[0m     \u001b[39mraise\u001b[39;00m \u001b[39mValueError\u001b[39;00m(\u001b[39m\"\u001b[39m\u001b[39my cannot be None\u001b[39m\u001b[39m\"\u001b[39m)\n\u001b[1;32m--> 964\u001b[0m X \u001b[39m=\u001b[39m check_array(\n\u001b[0;32m    965\u001b[0m     X,\n\u001b[0;32m    966\u001b[0m     accept_sparse\u001b[39m=\u001b[39;49maccept_sparse,\n\u001b[0;32m    967\u001b[0m     accept_large_sparse\u001b[39m=\u001b[39;49maccept_large_sparse,\n\u001b[0;32m    968\u001b[0m     dtype\u001b[39m=\u001b[39;49mdtype,\n\u001b[0;32m    969\u001b[0m     order\u001b[39m=\u001b[39;49morder,\n\u001b[0;32m    970\u001b[0m     copy\u001b[39m=\u001b[39;49mcopy,\n\u001b[0;32m    971\u001b[0m     force_all_finite\u001b[39m=\u001b[39;49mforce_all_finite,\n\u001b[0;32m    972\u001b[0m     ensure_2d\u001b[39m=\u001b[39;49mensure_2d,\n\u001b[0;32m    973\u001b[0m     allow_nd\u001b[39m=\u001b[39;49mallow_nd,\n\u001b[0;32m    974\u001b[0m     ensure_min_samples\u001b[39m=\u001b[39;49mensure_min_samples,\n\u001b[0;32m    975\u001b[0m     ensure_min_features\u001b[39m=\u001b[39;49mensure_min_features,\n\u001b[0;32m    976\u001b[0m     estimator\u001b[39m=\u001b[39;49mestimator,\n\u001b[0;32m    977\u001b[0m )\n\u001b[0;32m    979\u001b[0m y \u001b[39m=\u001b[39m _check_y(y, multi_output\u001b[39m=\u001b[39mmulti_output, y_numeric\u001b[39m=\u001b[39my_numeric)\n\u001b[0;32m    981\u001b[0m check_consistent_length(X, y)\n",
      "File \u001b[1;32m~\\AppData\\Local\\Packages\\PythonSoftwareFoundation.Python.3.10_qbz5n2kfra8p0\\LocalCache\\local-packages\\Python310\\site-packages\\sklearn\\utils\\validation.py:720\u001b[0m, in \u001b[0;36mcheck_array\u001b[1;34m(array, accept_sparse, accept_large_sparse, dtype, order, copy, force_all_finite, ensure_2d, allow_nd, ensure_min_samples, ensure_min_features, estimator)\u001b[0m\n\u001b[0;32m    718\u001b[0m \u001b[39mif\u001b[39;00m sp\u001b[39m.\u001b[39missparse(array):\n\u001b[0;32m    719\u001b[0m     _ensure_no_complex_data(array)\n\u001b[1;32m--> 720\u001b[0m     array \u001b[39m=\u001b[39m _ensure_sparse_format(\n\u001b[0;32m    721\u001b[0m         array,\n\u001b[0;32m    722\u001b[0m         accept_sparse\u001b[39m=\u001b[39;49maccept_sparse,\n\u001b[0;32m    723\u001b[0m         dtype\u001b[39m=\u001b[39;49mdtype,\n\u001b[0;32m    724\u001b[0m         copy\u001b[39m=\u001b[39;49mcopy,\n\u001b[0;32m    725\u001b[0m         force_all_finite\u001b[39m=\u001b[39;49mforce_all_finite,\n\u001b[0;32m    726\u001b[0m         accept_large_sparse\u001b[39m=\u001b[39;49maccept_large_sparse,\n\u001b[0;32m    727\u001b[0m     )\n\u001b[0;32m    728\u001b[0m \u001b[39melse\u001b[39;00m:\n\u001b[0;32m    729\u001b[0m     \u001b[39m# If np.array(..) gives ComplexWarning, then we convert the warning\u001b[39;00m\n\u001b[0;32m    730\u001b[0m     \u001b[39m# to an error. This is needed because specifying a non complex\u001b[39;00m\n\u001b[0;32m    731\u001b[0m     \u001b[39m# dtype to the function converts complex to real dtype,\u001b[39;00m\n\u001b[0;32m    732\u001b[0m     \u001b[39m# thereby passing the test made in the lines following the scope\u001b[39;00m\n\u001b[0;32m    733\u001b[0m     \u001b[39m# of warnings context manager.\u001b[39;00m\n\u001b[0;32m    734\u001b[0m     \u001b[39mwith\u001b[39;00m warnings\u001b[39m.\u001b[39mcatch_warnings():\n",
      "File \u001b[1;32m~\\AppData\\Local\\Packages\\PythonSoftwareFoundation.Python.3.10_qbz5n2kfra8p0\\LocalCache\\local-packages\\Python310\\site-packages\\sklearn\\utils\\validation.py:440\u001b[0m, in \u001b[0;36m_ensure_sparse_format\u001b[1;34m(spmatrix, accept_sparse, dtype, copy, force_all_finite, accept_large_sparse)\u001b[0m\n\u001b[0;32m    437\u001b[0m _check_large_sparse(spmatrix, accept_large_sparse)\n\u001b[0;32m    439\u001b[0m \u001b[39mif\u001b[39;00m accept_sparse \u001b[39mis\u001b[39;00m \u001b[39mFalse\u001b[39;00m:\n\u001b[1;32m--> 440\u001b[0m     \u001b[39mraise\u001b[39;00m \u001b[39mTypeError\u001b[39;00m(\n\u001b[0;32m    441\u001b[0m         \u001b[39m\"\u001b[39m\u001b[39mA sparse matrix was passed, but dense \u001b[39m\u001b[39m\"\u001b[39m\n\u001b[0;32m    442\u001b[0m         \u001b[39m\"\u001b[39m\u001b[39mdata is required. Use X.toarray() to \u001b[39m\u001b[39m\"\u001b[39m\n\u001b[0;32m    443\u001b[0m         \u001b[39m\"\u001b[39m\u001b[39mconvert to a dense numpy array.\u001b[39m\u001b[39m\"\u001b[39m\n\u001b[0;32m    444\u001b[0m     )\n\u001b[0;32m    445\u001b[0m \u001b[39melif\u001b[39;00m \u001b[39misinstance\u001b[39m(accept_sparse, (\u001b[39mlist\u001b[39m, \u001b[39mtuple\u001b[39m)):\n\u001b[0;32m    446\u001b[0m     \u001b[39mif\u001b[39;00m \u001b[39mlen\u001b[39m(accept_sparse) \u001b[39m==\u001b[39m \u001b[39m0\u001b[39m:\n",
      "\u001b[1;31mTypeError\u001b[0m: A sparse matrix was passed, but dense data is required. Use X.toarray() to convert to a dense numpy array."
     ]
    }
   ],
   "source": [
    "# Gaussian Naive Bayes Classifier\n",
    "gauss_nb = Pipeline([('tfidf', TfidfVectorizer()),\n",
    "                ('clf', GaussianNB()),\n",
    "               ])\n",
    "\n",
    "# Fitting + Prediction\n",
    "gauss_nb.fit(x_train.values.astype('U'),y_train)\n",
    "gauss_prediction = gauss_nb.predict(x_test.values.astype('U'))\n",
    "\n",
    "# Accuracy + Classification Report\n",
    "print(classification_report(y_test,gauss_prediction))"
   ]
  },
  {
   "cell_type": "code",
   "execution_count": null,
   "metadata": {},
   "outputs": [
    {
     "name": "stdout",
     "output_type": "stream",
     "text": [
      "              precision    recall  f1-score   support\n",
      "\n",
      "           1       0.75      0.12      0.20      2173\n",
      "           2       0.00      0.00      0.00       718\n",
      "           3       0.00      0.00      0.00       658\n",
      "           4       0.00      0.00      0.00       509\n",
      "           5       0.00      0.00      0.00       831\n",
      "           6       0.00      0.00      0.00       647\n",
      "           7       0.00      0.00      0.00       913\n",
      "           8       0.62      0.00      0.01      1830\n",
      "           9       0.39      0.01      0.01      2715\n",
      "          10       0.33      1.00      0.49      5134\n",
      "\n",
      "    accuracy                           0.33     16128\n",
      "   macro avg       0.21      0.11      0.07     16128\n",
      "weighted avg       0.34      0.33      0.19     16128\n",
      "\n"
     ]
    }
   ],
   "source": [
    "# Multinomial Naive Bayes Classifier\n",
    "mn_nb =Pipeline([('tfidf', TfidfVectorizer()),\n",
    "                ('clf', MultinomialNB()),\n",
    "               ])\n",
    "\n",
    "# Fitting + Prediction\n",
    "mn_nb.fit(x_train.values.astype('U'),y_train)\n",
    "mn_prediction = mn_nb.predict(x_test.values.astype('U'))\n",
    "\n",
    "# Accuracy + Classification Report\n",
    "print(classification_report(y_test,mn_prediction, zero_division=0))\n"
   ]
  }
 ],
 "metadata": {
  "kernelspec": {
   "display_name": "Python 3",
   "language": "python",
   "name": "python3"
  },
  "language_info": {
   "codemirror_mode": {
    "name": "ipython",
    "version": 3
   },
   "file_extension": ".py",
   "mimetype": "text/x-python",
   "name": "python",
   "nbconvert_exporter": "python",
   "pygments_lexer": "ipython3",
   "version": "3.10.11"
  }
 },
 "nbformat": 4,
 "nbformat_minor": 2
}
