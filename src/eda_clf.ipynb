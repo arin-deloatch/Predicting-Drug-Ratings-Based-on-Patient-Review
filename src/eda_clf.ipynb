{
 "cells": [
  {
   "cell_type": "markdown",
   "metadata": {},
   "source": [
    "## Exploratory Data Analysis"
   ]
  },
  {
   "cell_type": "code",
   "execution_count": 9,
   "metadata": {},
   "outputs": [],
   "source": [
    "import pandas as pd\n",
    "from matplotlib import pyplot as plt\n",
    "import seaborn as sns "
   ]
  },
  {
   "cell_type": "markdown",
   "metadata": {},
   "source": [
    "### Loading Raw Data\n",
    "Right away we notice that the dataset comes with 7 unique features. Of those 7 unique features, we will only be using 2 for the text classification model."
   ]
  },
  {
   "cell_type": "code",
   "execution_count": 10,
   "metadata": {},
   "outputs": [
    {
     "data": {
      "text/html": [
       "<div>\n",
       "<style scoped>\n",
       "    .dataframe tbody tr th:only-of-type {\n",
       "        vertical-align: middle;\n",
       "    }\n",
       "\n",
       "    .dataframe tbody tr th {\n",
       "        vertical-align: top;\n",
       "    }\n",
       "\n",
       "    .dataframe thead th {\n",
       "        text-align: right;\n",
       "    }\n",
       "</style>\n",
       "<table border=\"1\" class=\"dataframe\">\n",
       "  <thead>\n",
       "    <tr style=\"text-align: right;\">\n",
       "      <th></th>\n",
       "      <th>uniqueID</th>\n",
       "      <th>drugName</th>\n",
       "      <th>condition</th>\n",
       "      <th>review</th>\n",
       "      <th>rating</th>\n",
       "      <th>date</th>\n",
       "      <th>usefulCount</th>\n",
       "    </tr>\n",
       "  </thead>\n",
       "  <tbody>\n",
       "    <tr>\n",
       "      <th>0</th>\n",
       "      <td>163740</td>\n",
       "      <td>Mirtazapine</td>\n",
       "      <td>Depression</td>\n",
       "      <td>\"I&amp;#039;ve tried a few antidepressants over th...</td>\n",
       "      <td>10</td>\n",
       "      <td>28-Feb-12</td>\n",
       "      <td>22</td>\n",
       "    </tr>\n",
       "    <tr>\n",
       "      <th>1</th>\n",
       "      <td>206473</td>\n",
       "      <td>Mesalamine</td>\n",
       "      <td>Crohn's Disease, Maintenance</td>\n",
       "      <td>\"My son has Crohn&amp;#039;s disease and has done ...</td>\n",
       "      <td>8</td>\n",
       "      <td>17-May-09</td>\n",
       "      <td>17</td>\n",
       "    </tr>\n",
       "    <tr>\n",
       "      <th>2</th>\n",
       "      <td>159672</td>\n",
       "      <td>Bactrim</td>\n",
       "      <td>Urinary Tract Infection</td>\n",
       "      <td>\"Quick reduction of symptoms\"</td>\n",
       "      <td>9</td>\n",
       "      <td>29-Sep-17</td>\n",
       "      <td>3</td>\n",
       "    </tr>\n",
       "    <tr>\n",
       "      <th>3</th>\n",
       "      <td>39293</td>\n",
       "      <td>Contrave</td>\n",
       "      <td>Weight Loss</td>\n",
       "      <td>\"Contrave combines drugs that were used for al...</td>\n",
       "      <td>9</td>\n",
       "      <td>5-Mar-17</td>\n",
       "      <td>35</td>\n",
       "    </tr>\n",
       "    <tr>\n",
       "      <th>4</th>\n",
       "      <td>97768</td>\n",
       "      <td>Cyclafem 1 / 35</td>\n",
       "      <td>Birth Control</td>\n",
       "      <td>\"I have been on this birth control for one cyc...</td>\n",
       "      <td>9</td>\n",
       "      <td>22-Oct-15</td>\n",
       "      <td>4</td>\n",
       "    </tr>\n",
       "  </tbody>\n",
       "</table>\n",
       "</div>"
      ],
      "text/plain": [
       "   uniqueID         drugName                     condition  \\\n",
       "0    163740      Mirtazapine                    Depression   \n",
       "1    206473       Mesalamine  Crohn's Disease, Maintenance   \n",
       "2    159672          Bactrim       Urinary Tract Infection   \n",
       "3     39293         Contrave                   Weight Loss   \n",
       "4     97768  Cyclafem 1 / 35                 Birth Control   \n",
       "\n",
       "                                              review  rating       date  \\\n",
       "0  \"I&#039;ve tried a few antidepressants over th...      10  28-Feb-12   \n",
       "1  \"My son has Crohn&#039;s disease and has done ...       8  17-May-09   \n",
       "2                      \"Quick reduction of symptoms\"       9  29-Sep-17   \n",
       "3  \"Contrave combines drugs that were used for al...       9   5-Mar-17   \n",
       "4  \"I have been on this birth control for one cyc...       9  22-Oct-15   \n",
       "\n",
       "   usefulCount  \n",
       "0           22  \n",
       "1           17  \n",
       "2            3  \n",
       "3           35  \n",
       "4            4  "
      ]
     },
     "execution_count": 10,
     "metadata": {},
     "output_type": "execute_result"
    }
   ],
   "source": [
    "raw_data = pd.read_csv('../data/drugsComTest_raw.csv')\n",
    "raw_data.head()"
   ]
  },
  {
   "cell_type": "markdown",
   "metadata": {},
   "source": [
    "### Feature Selection"
   ]
  },
  {
   "cell_type": "code",
   "execution_count": 11,
   "metadata": {},
   "outputs": [
    {
     "data": {
      "text/html": [
       "<div>\n",
       "<style scoped>\n",
       "    .dataframe tbody tr th:only-of-type {\n",
       "        vertical-align: middle;\n",
       "    }\n",
       "\n",
       "    .dataframe tbody tr th {\n",
       "        vertical-align: top;\n",
       "    }\n",
       "\n",
       "    .dataframe thead th {\n",
       "        text-align: right;\n",
       "    }\n",
       "</style>\n",
       "<table border=\"1\" class=\"dataframe\">\n",
       "  <thead>\n",
       "    <tr style=\"text-align: right;\">\n",
       "      <th></th>\n",
       "      <th>rating</th>\n",
       "      <th>cleaned_review</th>\n",
       "    </tr>\n",
       "  </thead>\n",
       "  <tbody>\n",
       "    <tr>\n",
       "      <th>0</th>\n",
       "      <td>6</td>\n",
       "      <td>helps keep attention class seems make keep gri...</td>\n",
       "    </tr>\n",
       "    <tr>\n",
       "      <th>1</th>\n",
       "      <td>10</td>\n",
       "      <td>medicine amazing used always last one turn tes...</td>\n",
       "    </tr>\n",
       "    <tr>\n",
       "      <th>2</th>\n",
       "      <td>4</td>\n",
       "      <td>hyper focused dry mouth straterra put state ma...</td>\n",
       "    </tr>\n",
       "    <tr>\n",
       "      <th>3</th>\n",
       "      <td>8</td>\n",
       "      <td>adhd taking adderall years take morning someti...</td>\n",
       "    </tr>\n",
       "    <tr>\n",
       "      <th>4</th>\n",
       "      <td>9</td>\n",
       "      <td>keeps focused however wears sleep till hours l...</td>\n",
       "    </tr>\n",
       "  </tbody>\n",
       "</table>\n",
       "</div>"
      ],
      "text/plain": [
       "   rating                                     cleaned_review\n",
       "0       6  helps keep attention class seems make keep gri...\n",
       "1      10  medicine amazing used always last one turn tes...\n",
       "2       4  hyper focused dry mouth straterra put state ma...\n",
       "3       8  adhd taking adderall years take morning someti...\n",
       "4       9  keeps focused however wears sleep till hours l..."
      ]
     },
     "execution_count": 11,
     "metadata": {},
     "output_type": "execute_result"
    }
   ],
   "source": [
    "clf_data = pd.read_csv('../data/complete_project_data.csv', usecols=['rating','cleaned_review'])\n",
    "clf_data.head()"
   ]
  },
  {
   "cell_type": "markdown",
   "metadata": {},
   "source": [
    "### Data Types"
   ]
  },
  {
   "cell_type": "code",
   "execution_count": 12,
   "metadata": {},
   "outputs": [
    {
     "data": {
      "text/plain": [
       "rating             int64\n",
       "cleaned_review    object\n",
       "dtype: object"
      ]
     },
     "execution_count": 12,
     "metadata": {},
     "output_type": "execute_result"
    }
   ],
   "source": [
    "clf_data.dtypes"
   ]
  },
  {
   "cell_type": "markdown",
   "metadata": {},
   "source": [
    "### Checking For Any Null Values"
   ]
  },
  {
   "cell_type": "code",
   "execution_count": 13,
   "metadata": {},
   "outputs": [
    {
     "name": "stdout",
     "output_type": "stream",
     "text": [
      "rating             0\n",
      "cleaned_review    21\n",
      "dtype: int64\n"
     ]
    }
   ],
   "source": [
    "print(clf_data.isnull().sum())"
   ]
  },
  {
   "cell_type": "code",
   "execution_count": 14,
   "metadata": {},
   "outputs": [
    {
     "name": "stdout",
     "output_type": "stream",
     "text": [
      "       rating cleaned_review\n",
      "11319       9            NaN\n",
      "11342       9            NaN\n",
      "14651       9            NaN\n",
      "16147       8            NaN\n",
      "18563       9            NaN\n"
     ]
    }
   ],
   "source": [
    "null = clf_data.isnull().any(axis=1)\n",
    "null_rows = clf_data[null]\n",
    "\n",
    "print(null_rows.head())"
   ]
  },
  {
   "cell_type": "markdown",
   "metadata": {},
   "source": [
    "### Dropping Rows with Null Reviews"
   ]
  },
  {
   "cell_type": "code",
   "execution_count": 15,
   "metadata": {},
   "outputs": [],
   "source": [
    "clf_data = clf_data.dropna()"
   ]
  },
  {
   "cell_type": "markdown",
   "metadata": {},
   "source": [
    "### Five Number Summary for Ratings"
   ]
  },
  {
   "cell_type": "code",
   "execution_count": 16,
   "metadata": {},
   "outputs": [
    {
     "data": {
      "text/plain": [
       "count    215010.000000\n",
       "mean          6.989773\n",
       "std           3.275658\n",
       "min           1.000000\n",
       "25%           5.000000\n",
       "50%           8.000000\n",
       "75%          10.000000\n",
       "max          10.000000\n",
       "Name: rating, dtype: float64"
      ]
     },
     "execution_count": 16,
     "metadata": {},
     "output_type": "execute_result"
    }
   ],
   "source": [
    "rating_data = clf_data['rating']\n",
    "\n",
    "rating_data.describe()"
   ]
  },
  {
   "cell_type": "markdown",
   "metadata": {},
   "source": [
    "### Rating Value Counts"
   ]
  },
  {
   "cell_type": "code",
   "execution_count": 17,
   "metadata": {},
   "outputs": [
    {
     "data": {
      "text/plain": [
       "10    67987\n",
       "9     36694\n",
       "1     28913\n",
       "8     25039\n",
       "7     12544\n",
       "5     10722\n",
       "2      9265\n",
       "3      8718\n",
       "6      8458\n",
       "4      6670\n",
       "Name: rating, dtype: int64"
      ]
     },
     "execution_count": 17,
     "metadata": {},
     "output_type": "execute_result"
    }
   ],
   "source": [
    "rating_data.value_counts()"
   ]
  },
  {
   "cell_type": "markdown",
   "metadata": {},
   "source": [
    "### Data Visualization"
   ]
  },
  {
   "cell_type": "code",
   "execution_count": 18,
   "metadata": {},
   "outputs": [
    {
     "data": {
      "image/png": "[encoded data removed]",
      "text/plain": [
       "<Figure size 432x288 with 1 Axes>"
      ]
     },
     "metadata": {
      "needs_background": "light"
     },
     "output_type": "display_data"
    }
   ],
   "source": [
    "plt.hist(rating_data, alpha = 0.5, bins=10)\n",
    "plt.xlabel('Rating')\n",
    "plt.ylabel('Frequency')\n",
    "\n",
    "plt.show()"
   ]
  },
  {
   "cell_type": "markdown",
   "metadata": {},
   "source": [
    "### Text Classification Models without Sampling"
   ]
  },
  {
   "cell_type": "code",
   "execution_count": 19,
   "metadata": {},
   "outputs": [],
   "source": [
    "\n",
    "import numpy as np\n",
    "from sklearn.model_selection import train_test_split\n",
    "from sklearn.feature_extraction.text import CountVectorizer, TfidfVectorizer\n",
    "from sklearn.pipeline import Pipeline\n",
    "from sklearn.metrics import classification_report\n",
    "from sklearn.feature_extraction.text import TfidfTransformer\n",
    "from sklearn.linear_model import SGDClassifier\n",
    "from sklearn.naive_bayes import BernoulliNB\n",
    "from sklearn.metrics import accuracy_score\n",
    "%matplotlib inline "
   ]
  },
  {
   "cell_type": "markdown",
   "metadata": {},
   "source": [
    "### Linear SVM (Stochastic Gradient Descent) "
   ]
  },
  {
   "cell_type": "code",
   "execution_count": 20,
   "metadata": {},
   "outputs": [],
   "source": [
    "x = clf_data['cleaned_review']\n",
    "y = clf_data['rating']\n",
    "\n",
    "x_train,x_test,y_train,y_test = train_test_split(x,y,test_size=.30, random_state=0)"
   ]
  },
  {
   "cell_type": "code",
   "execution_count": 21,
   "metadata": {},
   "outputs": [],
   "source": [
    "# Classification Pipeline\n",
    "sgd_clf_pipeline = Pipeline([('tfidf', TfidfVectorizer()),\n",
    "                ('clf', SGDClassifier(loss='hinge', penalty='l2',alpha=1e-3, \n",
    "                                      random_state=42, max_iter=5, tol=None)),\n",
    "               ])"
   ]
  },
  {
   "cell_type": "code",
   "execution_count": 22,
   "metadata": {},
   "outputs": [],
   "source": [
    "# Fitting + Prediction\n",
    "sgd_clf_pipeline.fit(x_train.values.astype('U'), y_train)\n",
    "sgd_prediction = sgd_clf_pipeline.predict(x_test.values.astype('U'))"
   ]
  },
  {
   "cell_type": "code",
   "execution_count": 23,
   "metadata": {},
   "outputs": [
    {
     "name": "stdout",
     "output_type": "stream",
     "text": [
      "===============Stochastic Gradient Descent===============\n",
      "              precision    recall  f1-score   support\n",
      "\n",
      "           1       0.49      0.65      0.56      8549\n",
      "           2       0.19      0.09      0.13      2734\n",
      "           3       0.23      0.12      0.16      2615\n",
      "           4       0.19      0.15      0.17      1979\n",
      "           5       0.26      0.13      0.17      3261\n",
      "           6       0.22      0.12      0.15      2599\n",
      "           7       0.24      0.14      0.17      3737\n",
      "           8       0.33      0.13      0.18      7582\n",
      "           9       0.31      0.13      0.19     11018\n",
      "          10       0.49      0.86      0.62     20429\n",
      "\n",
      "    accuracy                           0.43     64503\n",
      "   macro avg       0.29      0.25      0.25     64503\n",
      "weighted avg       0.37      0.43      0.37     64503\n",
      "\n"
     ]
    }
   ],
   "source": [
    "# Accuracy + Classification Report\n",
    "print('===============Stochastic Gradient Descent===============')\n",
    "print(classification_report(y_test, sgd_prediction))"
   ]
  },
  {
   "cell_type": "markdown",
   "metadata": {},
   "source": [
    "### Naive Bayes"
   ]
  },
  {
   "cell_type": "code",
   "execution_count": 24,
   "metadata": {},
   "outputs": [
    {
     "name": "stdout",
     "output_type": "stream",
     "text": [
      "================= Bernoulli Naive Bayes =================\n",
      "              precision    recall  f1-score   support\n",
      "\n",
      "           1       0.47      0.66      0.55      8549\n",
      "           2       0.35      0.11      0.16      2734\n",
      "           3       0.33      0.11      0.17      2615\n",
      "           4       0.42      0.04      0.07      1979\n",
      "           5       0.20      0.16      0.18      3261\n",
      "           6       0.51      0.04      0.07      2599\n",
      "           7       0.36      0.09      0.14      3737\n",
      "           8       0.31      0.24      0.27      7582\n",
      "           9       0.34      0.33      0.34     11018\n",
      "          10       0.51      0.74      0.60     20429\n",
      "\n",
      "    accuracy                           0.43     64503\n",
      "   macro avg       0.38      0.25      0.26     64503\n",
      "weighted avg       0.41      0.43      0.39     64503\n",
      "\n"
     ]
    }
   ],
   "source": [
    "# Bernoulli Naive Bayes Classifier\n",
    "bern_clf = Pipeline([('tfidf', TfidfVectorizer()),\n",
    "                ('clf', BernoulliNB()),\n",
    "               ])\n",
    "\n",
    "# Fitting + Prediction\n",
    "bern_clf.fit(x_train.values.astype('U'),y_train)\n",
    "bern_prediction = bern_clf.predict(x_test.values.astype('U'))\n",
    "\n",
    "# Accuracy + Classification Report\n",
    "print('================= Bernoulli Naive Bayes =================')\n",
    "print(classification_report(y_test,bern_prediction))"
   ]
  },
  {
   "cell_type": "markdown",
   "metadata": {},
   "source": [
    "### Text Classification Models with Sampling (With Replacement)"
   ]
  },
  {
   "cell_type": "code",
   "execution_count": 25,
   "metadata": {},
   "outputs": [],
   "source": [
    "import random \n",
    "# Drawing a sample of 20,000 from each group\n",
    "\n",
    "one_sample = clf_data.loc[clf_data['rating'] == 1]\n",
    "two_sample = clf_data.loc[clf_data['rating'] == 2]\n",
    "three_sample = clf_data.loc[clf_data['rating'] == 3]\n",
    "four_sample = clf_data.loc[clf_data['rating'] == 4]\n",
    "five_sample = clf_data.loc[clf_data['rating'] == 5]\n",
    "six_sample = clf_data.loc[clf_data['rating'] == 6]\n",
    "seven_sample = clf_data.loc[clf_data['rating'] == 7]\n",
    "eight_sample = clf_data.loc[clf_data['rating'] == 8]\n",
    "nine_sample = clf_data.loc[clf_data['rating'] == 9]\n",
    "ten_sample = clf_data.loc[clf_data['rating'] == 10]"
   ]
  },
  {
   "cell_type": "code",
   "execution_count": 32,
   "metadata": {},
   "outputs": [],
   "source": [
    "one_sample = one_sample.sample(n = 20_000, replace=True, random_state=1)\n",
    "two_sample = two_sample.sample(n = 20_000, replace=True, random_state=1)\n",
    "three_sample = three_sample.sample(n = 20_000, replace=True, random_state=1)\n",
    "four_sample = four_sample.sample(n = 20_000, replace=True, random_state=1)\n",
    "five_sample = five_sample.sample(n = 20_000, replace=True, random_state=1)\n",
    "six_sample = six_sample.sample(n = 20_000, replace=True, random_state=1)\n",
    "seven_sample = seven_sample.sample(n = 20_000, replace=True, random_state=1)\n",
    "eight_sample = eight_sample.sample(n = 20_000, replace=True, random_state=1)\n",
    "nine_sample = nine_sample.sample(n = 20_000, replace=True, random_state=1)\n",
    "ten_sample = ten_sample.sample(n = 20_000, replace=True, random_state=1)\n",
    "\n",
    "combined_sample = pd.concat([one_sample,two_sample,three_sample,\n",
    "                             four_sample,five_sample,six_sample,\n",
    "                             seven_sample,eight_sample,nine_sample,\n",
    "                             ten_sample])"
   ]
  },
  {
   "cell_type": "markdown",
   "metadata": {},
   "source": [
    "#### Linear SVM (Stochastic Gradient Descent) "
   ]
  },
  {
   "cell_type": "code",
   "execution_count": 33,
   "metadata": {},
   "outputs": [],
   "source": [
    "X = combined_sample['cleaned_review']\n",
    "Y = combined_sample['rating']\n",
    "\n",
    "x_train,x_test,y_train,y_test = train_test_split(X,Y,test_size=.30, random_state=0)"
   ]
  },
  {
   "cell_type": "code",
   "execution_count": 34,
   "metadata": {},
   "outputs": [],
   "source": [
    "# Classification Pipeline\n",
    "sgd_clf_pipeline = Pipeline([('tfidf', TfidfVectorizer()),\n",
    "                ('clf', SGDClassifier(loss='hinge', penalty='l2',alpha=1e-3, random_state=42, max_iter=5, tol=None)),\n",
    "               ])"
   ]
  },
  {
   "cell_type": "code",
   "execution_count": 35,
   "metadata": {},
   "outputs": [],
   "source": [
    "# Fitting + Prediction\n",
    "sgd_clf_pipeline.fit(x_train.values.astype('U'), y_train)\n",
    "sgd_prediction = sgd_clf_pipeline.predict(x_test.values.astype('U'))"
   ]
  },
  {
   "cell_type": "code",
   "execution_count": 36,
   "metadata": {},
   "outputs": [
    {
     "name": "stdout",
     "output_type": "stream",
     "text": [
      "===============Stochastic Gradient Descent===============\n",
      "              precision    recall  f1-score   support\n",
      "\n",
      "           1       0.63      0.75      0.68      5945\n",
      "           2       0.67      0.67      0.67      5940\n",
      "           3       0.71      0.66      0.68      6019\n",
      "           4       0.70      0.69      0.69      5997\n",
      "           5       0.69      0.64      0.66      5946\n",
      "           6       0.66      0.70      0.68      5980\n",
      "           7       0.71      0.65      0.68      6069\n",
      "           8       0.71      0.59      0.64      6051\n",
      "           9       0.68      0.61      0.64      6058\n",
      "          10       0.60      0.76      0.67      5995\n",
      "\n",
      "    accuracy                           0.67     60000\n",
      "   macro avg       0.67      0.67      0.67     60000\n",
      "weighted avg       0.67      0.67      0.67     60000\n",
      "\n"
     ]
    }
   ],
   "source": [
    "# Accuracy + Classification Report\n",
    "print('===============Stochastic Gradient Descent===============')\n",
    "print(classification_report(y_test, sgd_prediction))"
   ]
  },
  {
   "cell_type": "markdown",
   "metadata": {},
   "source": [
    "#### Naive Bayes"
   ]
  },
  {
   "cell_type": "code",
   "execution_count": 37,
   "metadata": {},
   "outputs": [
    {
     "name": "stdout",
     "output_type": "stream",
     "text": [
      "================= Bernoulli Naive Bayes =================\n",
      "              precision    recall  f1-score   support\n",
      "\n",
      "           1       0.43      0.70      0.54      5945\n",
      "           2       0.66      0.56      0.61      5940\n",
      "           3       0.62      0.55      0.59      6019\n",
      "           4       0.52      0.61      0.57      5997\n",
      "           5       0.62      0.55      0.58      5946\n",
      "           6       0.69      0.53      0.60      5980\n",
      "           7       0.69      0.54      0.61      6069\n",
      "           8       0.64      0.51      0.57      6051\n",
      "           9       0.66      0.53      0.59      6058\n",
      "          10       0.51      0.71      0.59      5995\n",
      "\n",
      "    accuracy                           0.58     60000\n",
      "   macro avg       0.60      0.58      0.58     60000\n",
      "weighted avg       0.60      0.58      0.58     60000\n",
      "\n"
     ]
    }
   ],
   "source": [
    "# Bernoulli Naive Bayes Classifier\n",
    "bern_clf = Pipeline([('tfidf', TfidfVectorizer()),\n",
    "                ('clf', BernoulliNB()),\n",
    "               ])\n",
    "\n",
    "# Fitting + Prediction\n",
    "bern_clf.fit(x_train.values.astype('U'),y_train)\n",
    "bern_prediction = bern_clf.predict(x_test.values.astype('U'))\n",
    "\n",
    "# Accuracy + Classification Report\n",
    "print('================= Bernoulli Naive Bayes =================')\n",
    "print(classification_report(y_test,bern_prediction))"
   ]
  }
 ],
 "metadata": {
  "kernelspec": {
   "display_name": "Python 3",
   "language": "python",
   "name": "python3"
  },
  "language_info": {
   "codemirror_mode": {
    "name": "ipython",
    "version": 3
   },
   "file_extension": ".py",
   "mimetype": "text/x-python",
   "name": "python",
   "nbconvert_exporter": "python",
   "pygments_lexer": "ipython3",
   "version": "3.10.11"
  }
 },
 "nbformat": 4,
 "nbformat_minor": 2
}
