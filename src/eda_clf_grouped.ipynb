{
 "cells": [
  {
   "cell_type": "markdown",
   "metadata": {},
   "source": [
    "## Exploratory Data Analysis (Grouped Ratings)"
   ]
  },
  {
   "cell_type": "code",
   "execution_count": 3,
   "metadata": {},
   "outputs": [],
   "source": [
    "import pandas as pd\n",
    "from matplotlib import pyplot as plt\n",
    "import numpy as np\n",
    "from sklearn.model_selection import train_test_split\n",
    "from sklearn.feature_extraction.text import CountVectorizer, TfidfVectorizer\n",
    "from sklearn.pipeline import Pipeline\n",
    "from sklearn.metrics import classification_report\n",
    "from sklearn.feature_extraction.text import TfidfTransformer\n",
    "from sklearn.linear_model import SGDClassifier\n",
    "from sklearn.naive_bayes import BernoulliNB\n",
    "from sklearn.metrics import accuracy_score\n",
    "%matplotlib inline "
   ]
  },
  {
   "cell_type": "markdown",
   "metadata": {},
   "source": [
    "### Feature Selection"
   ]
  },
  {
   "cell_type": "code",
   "execution_count": 4,
   "metadata": {},
   "outputs": [
    {
     "data": {
      "text/html": [
       "<div>\n",
       "<style scoped>\n",
       "    .dataframe tbody tr th:only-of-type {\n",
       "        vertical-align: middle;\n",
       "    }\n",
       "\n",
       "    .dataframe tbody tr th {\n",
       "        vertical-align: top;\n",
       "    }\n",
       "\n",
       "    .dataframe thead th {\n",
       "        text-align: right;\n",
       "    }\n",
       "</style>\n",
       "<table border=\"1\" class=\"dataframe\">\n",
       "  <thead>\n",
       "    <tr style=\"text-align: right;\">\n",
       "      <th></th>\n",
       "      <th>rating</th>\n",
       "      <th>cleaned_review</th>\n",
       "    </tr>\n",
       "  </thead>\n",
       "  <tbody>\n",
       "    <tr>\n",
       "      <th>0</th>\n",
       "      <td>Fair</td>\n",
       "      <td>helps keep attention class seems make keep gri...</td>\n",
       "    </tr>\n",
       "    <tr>\n",
       "      <th>1</th>\n",
       "      <td>Great</td>\n",
       "      <td>medicine amazing used always last one turn tes...</td>\n",
       "    </tr>\n",
       "    <tr>\n",
       "      <th>2</th>\n",
       "      <td>Poor</td>\n",
       "      <td>hyper focused dry mouth straterra put state ma...</td>\n",
       "    </tr>\n",
       "    <tr>\n",
       "      <th>3</th>\n",
       "      <td>Great</td>\n",
       "      <td>adhd taking adderall years take morning someti...</td>\n",
       "    </tr>\n",
       "    <tr>\n",
       "      <th>4</th>\n",
       "      <td>Great</td>\n",
       "      <td>keeps focused however wears sleep till hours l...</td>\n",
       "    </tr>\n",
       "  </tbody>\n",
       "</table>\n",
       "</div>"
      ],
      "text/plain": [
       "  rating                                     cleaned_review\n",
       "0   Fair  helps keep attention class seems make keep gri...\n",
       "1  Great  medicine amazing used always last one turn tes...\n",
       "2   Poor  hyper focused dry mouth straterra put state ma...\n",
       "3  Great  adhd taking adderall years take morning someti...\n",
       "4  Great  keeps focused however wears sleep till hours l..."
      ]
     },
     "execution_count": 4,
     "metadata": {},
     "output_type": "execute_result"
    }
   ],
   "source": [
    "grouped_clf_data = pd.read_csv('../data/grouped_ratings.csv', \n",
    "                               usecols=['rating','cleaned_review'])\n",
    "\n",
    "grouped_clf_data.head()"
   ]
  },
  {
   "cell_type": "markdown",
   "metadata": {},
   "source": [
    "### Data Types"
   ]
  },
  {
   "cell_type": "code",
   "execution_count": 5,
   "metadata": {},
   "outputs": [
    {
     "data": {
      "text/plain": [
       "rating            object\n",
       "cleaned_review    object\n",
       "dtype: object"
      ]
     },
     "execution_count": 5,
     "metadata": {},
     "output_type": "execute_result"
    }
   ],
   "source": [
    "grouped_clf_data.dtypes"
   ]
  },
  {
   "cell_type": "markdown",
   "metadata": {},
   "source": [
    "### Checking for Any Null Values"
   ]
  },
  {
   "cell_type": "code",
   "execution_count": 6,
   "metadata": {},
   "outputs": [
    {
     "name": "stdout",
     "output_type": "stream",
     "text": [
      "rating             0\n",
      "cleaned_review    21\n",
      "dtype: int64\n"
     ]
    }
   ],
   "source": [
    "print(grouped_clf_data.isnull().sum())"
   ]
  },
  {
   "cell_type": "markdown",
   "metadata": {},
   "source": [
    "### Dropping Rows with Null Reviews"
   ]
  },
  {
   "cell_type": "code",
   "execution_count": 7,
   "metadata": {},
   "outputs": [],
   "source": [
    "grouped_clf_data = grouped_clf_data.dropna()"
   ]
  },
  {
   "cell_type": "markdown",
   "metadata": {},
   "source": [
    "### Categorical Description"
   ]
  },
  {
   "cell_type": "code",
   "execution_count": 8,
   "metadata": {},
   "outputs": [
    {
     "data": {
      "text/plain": [
       "count     215010\n",
       "unique         3\n",
       "top        Great\n",
       "freq      129720\n",
       "Name: rating, dtype: object"
      ]
     },
     "execution_count": 8,
     "metadata": {},
     "output_type": "execute_result"
    }
   ],
   "source": [
    "grouped_rating_data = grouped_clf_data['rating']\n",
    "\n",
    "grouped_rating_data.describe()"
   ]
  },
  {
   "cell_type": "code",
   "execution_count": 9,
   "metadata": {},
   "outputs": [
    {
     "data": {
      "text/plain": [
       "Great    129720\n",
       "Poor      53566\n",
       "Fair      31724\n",
       "Name: rating, dtype: int64"
      ]
     },
     "execution_count": 9,
     "metadata": {},
     "output_type": "execute_result"
    }
   ],
   "source": [
    "grouped_rating_data.value_counts()"
   ]
  },
  {
   "cell_type": "markdown",
   "metadata": {},
   "source": [
    "### Data Visualization"
   ]
  },
  {
   "cell_type": "code",
   "execution_count": 10,
   "metadata": {},
   "outputs": [
    {
     "data": {
      "image/png": "[encoded data removed]",
      "text/plain": [
       "<Figure size 432x288 with 1 Axes>"
      ]
     },
     "metadata": {
      "needs_background": "light"
     },
     "output_type": "display_data"
    }
   ],
   "source": [
    "plt.hist(grouped_rating_data)\n",
    "\n",
    "plt.xlabel('Rating')\n",
    "plt.ylabel('Frequency')\n",
    "\n",
    "plt.show()"
   ]
  },
  {
   "cell_type": "markdown",
   "metadata": {},
   "source": [
    "### Text Classification Models without Sampling"
   ]
  },
  {
   "cell_type": "markdown",
   "metadata": {},
   "source": [
    "#### Linear SVM (Stochastic Gradient Descent) "
   ]
  },
  {
   "cell_type": "code",
   "execution_count": 11,
   "metadata": {},
   "outputs": [],
   "source": [
    "x = grouped_clf_data['cleaned_review']\n",
    "y = grouped_clf_data['rating']\n",
    "\n",
    "x_train,x_test,y_train,y_test = train_test_split(x,y,test_size=.30, random_state=0)"
   ]
  },
  {
   "cell_type": "code",
   "execution_count": 12,
   "metadata": {},
   "outputs": [],
   "source": [
    "# Classification Pipeline\n",
    "sgd_clf_pipeline = Pipeline([('tfidf', TfidfVectorizer()),\n",
    "                ('clf', SGDClassifier(loss='hinge', penalty='l2',alpha=1e-3,\n",
    "                                       random_state=42, max_iter=5, tol=None)),\n",
    "               ])"
   ]
  },
  {
   "cell_type": "code",
   "execution_count": 13,
   "metadata": {},
   "outputs": [],
   "source": [
    "# Fitting + Prediction\n",
    "sgd_clf_pipeline.fit(x_train.values, y_train)\n",
    "sgd_prediction = sgd_clf_pipeline.predict(x_test.values)"
   ]
  },
  {
   "cell_type": "code",
   "execution_count": 14,
   "metadata": {},
   "outputs": [
    {
     "name": "stdout",
     "output_type": "stream",
     "text": [
      "===============Stochastic Gradient Descent===============\n",
      "              precision    recall  f1-score   support\n",
      "\n",
      "        Fair       0.00      0.00      0.00      9597\n",
      "       Great       0.62      1.00      0.77     39029\n",
      "        Poor       0.87      0.10      0.17     15877\n",
      "\n",
      "    accuracy                           0.63     64503\n",
      "   macro avg       0.50      0.37      0.31     64503\n",
      "weighted avg       0.59      0.63      0.51     64503\n",
      "\n"
     ]
    }
   ],
   "source": [
    "# Accuracy + Classification Report\n",
    "print('===============Stochastic Gradient Descent===============')\n",
    "print(classification_report(y_test, sgd_prediction,zero_division=0))"
   ]
  },
  {
   "cell_type": "markdown",
   "metadata": {},
   "source": [
    "#### Naive Bayes"
   ]
  },
  {
   "cell_type": "code",
   "execution_count": 15,
   "metadata": {},
   "outputs": [
    {
     "name": "stdout",
     "output_type": "stream",
     "text": [
      "================= Bernoulli Naive Bayes =================\n",
      "              precision    recall  f1-score   support\n",
      "\n",
      "        Fair       0.37      0.30      0.33      9597\n",
      "       Great       0.80      0.83      0.81     39029\n",
      "        Poor       0.66      0.67      0.66     15877\n",
      "\n",
      "    accuracy                           0.71     64503\n",
      "   macro avg       0.61      0.60      0.60     64503\n",
      "weighted avg       0.70      0.71      0.70     64503\n",
      "\n"
     ]
    }
   ],
   "source": [
    "# Bernoulli Naive Bayes Classifier\n",
    "bern_clf = Pipeline([('tfidf', TfidfVectorizer()),\n",
    "                ('clf', BernoulliNB()),\n",
    "               ])\n",
    "\n",
    "# Fitting + Prediction\n",
    "bern_clf.fit(x_train.values.astype('U'),y_train)\n",
    "bern_prediction = bern_clf.predict(x_test.values.astype('U'))\n",
    "\n",
    "# Accuracy + Classification Report\n",
    "print('================= Bernoulli Naive Bayes =================')\n",
    "print(classification_report(y_test,bern_prediction))"
   ]
  },
  {
   "cell_type": "markdown",
   "metadata": {},
   "source": [
    "### Text Classification Models with Sampling (No Replacement)"
   ]
  },
  {
   "cell_type": "markdown",
   "metadata": {},
   "source": [
    "#### Drawing Random Samples"
   ]
  },
  {
   "cell_type": "code",
   "execution_count": 16,
   "metadata": {},
   "outputs": [],
   "source": [
    "import random \n",
    "# Drawing a sample of 20,000 from each group\n",
    "\n",
    "poor_sample = grouped_clf_data.loc[grouped_clf_data['rating'] == 'Poor']\n",
    "fair_sample = grouped_clf_data.loc[grouped_clf_data['rating'] == 'Fair']\n",
    "great_sample = grouped_clf_data.loc[grouped_clf_data['rating'] == 'Great']"
   ]
  },
  {
   "cell_type": "code",
   "execution_count": 21,
   "metadata": {},
   "outputs": [
    {
     "data": {
      "text/html": [
       "<div>\n",
       "<style scoped>\n",
       "    .dataframe tbody tr th:only-of-type {\n",
       "        vertical-align: middle;\n",
       "    }\n",
       "\n",
       "    .dataframe tbody tr th {\n",
       "        vertical-align: top;\n",
       "    }\n",
       "\n",
       "    .dataframe thead th {\n",
       "        text-align: right;\n",
       "    }\n",
       "</style>\n",
       "<table border=\"1\" class=\"dataframe\">\n",
       "  <thead>\n",
       "    <tr style=\"text-align: right;\">\n",
       "      <th></th>\n",
       "      <th>rating</th>\n",
       "      <th>cleaned_review</th>\n",
       "    </tr>\n",
       "  </thead>\n",
       "  <tbody>\n",
       "    <tr>\n",
       "      <th>152400</th>\n",
       "      <td>Poor</td>\n",
       "      <td>yeah well ended end road xolair daughter treat...</td>\n",
       "    </tr>\n",
       "    <tr>\n",
       "      <th>6156</th>\n",
       "      <td>Poor</td>\n",
       "      <td>using product weeks mild acne forehead cheeks ...</td>\n",
       "    </tr>\n",
       "    <tr>\n",
       "      <th>179880</th>\n",
       "      <td>Poor</td>\n",
       "      <td>worse birth control ever started taking orsyth...</td>\n",
       "    </tr>\n",
       "    <tr>\n",
       "      <th>36103</th>\n",
       "      <td>Poor</td>\n",
       "      <td>aviane made feel excessively fatigued still go...</td>\n",
       "    </tr>\n",
       "    <tr>\n",
       "      <th>35472</th>\n",
       "      <td>Poor</td>\n",
       "      <td>using nuvaring almost year noticed months ago ...</td>\n",
       "    </tr>\n",
       "  </tbody>\n",
       "</table>\n",
       "</div>"
      ],
      "text/plain": [
       "       rating                                     cleaned_review\n",
       "152400   Poor  yeah well ended end road xolair daughter treat...\n",
       "6156     Poor  using product weeks mild acne forehead cheeks ...\n",
       "179880   Poor  worse birth control ever started taking orsyth...\n",
       "36103    Poor  aviane made feel excessively fatigued still go...\n",
       "35472    Poor  using nuvaring almost year noticed months ago ..."
      ]
     },
     "execution_count": 21,
     "metadata": {},
     "output_type": "execute_result"
    }
   ],
   "source": [
    "poor_sample = poor_sample.sample(n = 20_000, replace=False, random_state=1)\n",
    "poor_sample.head()"
   ]
  },
  {
   "cell_type": "code",
   "execution_count": 20,
   "metadata": {},
   "outputs": [
    {
     "data": {
      "text/html": [
       "<div>\n",
       "<style scoped>\n",
       "    .dataframe tbody tr th:only-of-type {\n",
       "        vertical-align: middle;\n",
       "    }\n",
       "\n",
       "    .dataframe tbody tr th {\n",
       "        vertical-align: top;\n",
       "    }\n",
       "\n",
       "    .dataframe thead th {\n",
       "        text-align: right;\n",
       "    }\n",
       "</style>\n",
       "<table border=\"1\" class=\"dataframe\">\n",
       "  <thead>\n",
       "    <tr style=\"text-align: right;\">\n",
       "      <th></th>\n",
       "      <th>rating</th>\n",
       "      <th>cleaned_review</th>\n",
       "    </tr>\n",
       "  </thead>\n",
       "  <tbody>\n",
       "    <tr>\n",
       "      <th>208866</th>\n",
       "      <td>Fair</td>\n",
       "      <td>far med feeling terrible akasthia take night i...</td>\n",
       "    </tr>\n",
       "    <tr>\n",
       "      <th>94248</th>\n",
       "      <td>Fair</td>\n",
       "      <td>guess working great relieve possibility clots ...</td>\n",
       "    </tr>\n",
       "    <tr>\n",
       "      <th>82034</th>\n",
       "      <td>Fair</td>\n",
       "      <td>loved invokanamet went blood sugars never went...</td>\n",
       "    </tr>\n",
       "    <tr>\n",
       "      <th>124459</th>\n",
       "      <td>Fair</td>\n",
       "      <td>severely injured snapped mental pt state hospi...</td>\n",
       "    </tr>\n",
       "    <tr>\n",
       "      <th>110040</th>\n",
       "      <td>Fair</td>\n",
       "      <td>dysmenorrhea overweight medication short time ...</td>\n",
       "    </tr>\n",
       "  </tbody>\n",
       "</table>\n",
       "</div>"
      ],
      "text/plain": [
       "       rating                                     cleaned_review\n",
       "208866   Fair  far med feeling terrible akasthia take night i...\n",
       "94248    Fair  guess working great relieve possibility clots ...\n",
       "82034    Fair  loved invokanamet went blood sugars never went...\n",
       "124459   Fair  severely injured snapped mental pt state hospi...\n",
       "110040   Fair  dysmenorrhea overweight medication short time ..."
      ]
     },
     "execution_count": 20,
     "metadata": {},
     "output_type": "execute_result"
    }
   ],
   "source": [
    "fair_sample = fair_sample.sample(n = 20_000, replace=False, random_state=1)\n",
    "fair_sample.head()"
   ]
  },
  {
   "cell_type": "code",
   "execution_count": 22,
   "metadata": {},
   "outputs": [
    {
     "data": {
      "text/html": [
       "<div>\n",
       "<style scoped>\n",
       "    .dataframe tbody tr th:only-of-type {\n",
       "        vertical-align: middle;\n",
       "    }\n",
       "\n",
       "    .dataframe tbody tr th {\n",
       "        vertical-align: top;\n",
       "    }\n",
       "\n",
       "    .dataframe thead th {\n",
       "        text-align: right;\n",
       "    }\n",
       "</style>\n",
       "<table border=\"1\" class=\"dataframe\">\n",
       "  <thead>\n",
       "    <tr style=\"text-align: right;\">\n",
       "      <th></th>\n",
       "      <th>rating</th>\n",
       "      <th>cleaned_review</th>\n",
       "    </tr>\n",
       "  </thead>\n",
       "  <tbody>\n",
       "    <tr>\n",
       "      <th>192124</th>\n",
       "      <td>Great</td>\n",
       "      <td>honestly say far stribild saved june counts vi...</td>\n",
       "    </tr>\n",
       "    <tr>\n",
       "      <th>45804</th>\n",
       "      <td>Great</td>\n",
       "      <td>love love love six months adore totally protec...</td>\n",
       "    </tr>\n",
       "    <tr>\n",
       "      <th>6032</th>\n",
       "      <td>Great</td>\n",
       "      <td>struggled chin acne adult life pretty much tri...</td>\n",
       "    </tr>\n",
       "    <tr>\n",
       "      <th>108609</th>\n",
       "      <td>Great</td>\n",
       "      <td>remeron years helped much depression although ...</td>\n",
       "    </tr>\n",
       "    <tr>\n",
       "      <th>209864</th>\n",
       "      <td>Great</td>\n",
       "      <td>smoked years started bupropion took mg days to...</td>\n",
       "    </tr>\n",
       "  </tbody>\n",
       "</table>\n",
       "</div>"
      ],
      "text/plain": [
       "       rating                                     cleaned_review\n",
       "192124  Great  honestly say far stribild saved june counts vi...\n",
       "45804   Great  love love love six months adore totally protec...\n",
       "6032    Great  struggled chin acne adult life pretty much tri...\n",
       "108609  Great  remeron years helped much depression although ...\n",
       "209864  Great  smoked years started bupropion took mg days to..."
      ]
     },
     "execution_count": 22,
     "metadata": {},
     "output_type": "execute_result"
    }
   ],
   "source": [
    "great_sample = great_sample.sample(n = 20_000, replace=False, random_state=1)\n",
    "great_sample.head()"
   ]
  },
  {
   "cell_type": "code",
   "execution_count": 26,
   "metadata": {},
   "outputs": [
    {
     "data": {
      "text/html": [
       "<div>\n",
       "<style scoped>\n",
       "    .dataframe tbody tr th:only-of-type {\n",
       "        vertical-align: middle;\n",
       "    }\n",
       "\n",
       "    .dataframe tbody tr th {\n",
       "        vertical-align: top;\n",
       "    }\n",
       "\n",
       "    .dataframe thead th {\n",
       "        text-align: right;\n",
       "    }\n",
       "</style>\n",
       "<table border=\"1\" class=\"dataframe\">\n",
       "  <thead>\n",
       "    <tr style=\"text-align: right;\">\n",
       "      <th></th>\n",
       "      <th>rating</th>\n",
       "      <th>cleaned_review</th>\n",
       "    </tr>\n",
       "  </thead>\n",
       "  <tbody>\n",
       "    <tr>\n",
       "      <th>152400</th>\n",
       "      <td>Poor</td>\n",
       "      <td>yeah well ended end road xolair daughter treat...</td>\n",
       "    </tr>\n",
       "    <tr>\n",
       "      <th>6156</th>\n",
       "      <td>Poor</td>\n",
       "      <td>using product weeks mild acne forehead cheeks ...</td>\n",
       "    </tr>\n",
       "    <tr>\n",
       "      <th>179880</th>\n",
       "      <td>Poor</td>\n",
       "      <td>worse birth control ever started taking orsyth...</td>\n",
       "    </tr>\n",
       "    <tr>\n",
       "      <th>36103</th>\n",
       "      <td>Poor</td>\n",
       "      <td>aviane made feel excessively fatigued still go...</td>\n",
       "    </tr>\n",
       "    <tr>\n",
       "      <th>35472</th>\n",
       "      <td>Poor</td>\n",
       "      <td>using nuvaring almost year noticed months ago ...</td>\n",
       "    </tr>\n",
       "  </tbody>\n",
       "</table>\n",
       "</div>"
      ],
      "text/plain": [
       "       rating                                     cleaned_review\n",
       "152400   Poor  yeah well ended end road xolair daughter treat...\n",
       "6156     Poor  using product weeks mild acne forehead cheeks ...\n",
       "179880   Poor  worse birth control ever started taking orsyth...\n",
       "36103    Poor  aviane made feel excessively fatigued still go...\n",
       "35472    Poor  using nuvaring almost year noticed months ago ..."
      ]
     },
     "execution_count": 26,
     "metadata": {},
     "output_type": "execute_result"
    }
   ],
   "source": [
    "project_sample =  pd.concat([poor_sample,fair_sample,great_sample])\n",
    "\n",
    "project_sample.head()"
   ]
  },
  {
   "cell_type": "markdown",
   "metadata": {},
   "source": [
    "#### Linear SVM (Stochastic Gradient Descent) "
   ]
  },
  {
   "cell_type": "code",
   "execution_count": 27,
   "metadata": {},
   "outputs": [],
   "source": [
    "X = project_sample['cleaned_review']\n",
    "Y = project_sample['rating']\n",
    "\n",
    "x_train,x_test,y_train,y_test = train_test_split(X,Y,test_size=.30, random_state=0)"
   ]
  },
  {
   "cell_type": "code",
   "execution_count": 28,
   "metadata": {},
   "outputs": [],
   "source": [
    "# Classification Pipeline\n",
    "sgd_clf_pipeline = Pipeline([('tfidf', TfidfVectorizer()),\n",
    "                ('clf', SGDClassifier(loss='hinge', penalty='l2',alpha=1e-3, random_state=42, max_iter=5, tol=None)),\n",
    "               ])"
   ]
  },
  {
   "cell_type": "code",
   "execution_count": 29,
   "metadata": {},
   "outputs": [],
   "source": [
    "# Fitting + Prediction\n",
    "sgd_clf_pipeline.fit(x_train.values.astype('U'), y_train)\n",
    "sgd_prediction = sgd_clf_pipeline.predict(x_test.values.astype('U'))"
   ]
  },
  {
   "cell_type": "code",
   "execution_count": 30,
   "metadata": {},
   "outputs": [
    {
     "name": "stdout",
     "output_type": "stream",
     "text": [
      "===============Stochastic Gradient Descent===============\n",
      "              precision    recall  f1-score   support\n",
      "\n",
      "        Fair       0.63      0.21      0.32      6004\n",
      "       Great       0.59      0.78      0.67      6028\n",
      "        Poor       0.59      0.79      0.68      5968\n",
      "\n",
      "    accuracy                           0.60     18000\n",
      "   macro avg       0.61      0.60      0.56     18000\n",
      "weighted avg       0.61      0.60      0.56     18000\n",
      "\n"
     ]
    }
   ],
   "source": [
    "# Accuracy + Classification Report\n",
    "print('===============Stochastic Gradient Descent===============')\n",
    "print(classification_report(y_test, sgd_prediction))"
   ]
  },
  {
   "cell_type": "markdown",
   "metadata": {},
   "source": [
    "#### Naive Bayes"
   ]
  },
  {
   "cell_type": "code",
   "execution_count": 31,
   "metadata": {},
   "outputs": [
    {
     "name": "stdout",
     "output_type": "stream",
     "text": [
      "================= Bernoulli Naive Bayes =================\n",
      "              precision    recall  f1-score   support\n",
      "\n",
      "        Fair       0.55      0.50      0.52      6004\n",
      "       Great       0.64      0.65      0.65      6028\n",
      "        Poor       0.63      0.69      0.66      5968\n",
      "\n",
      "    accuracy                           0.61     18000\n",
      "   macro avg       0.61      0.61      0.61     18000\n",
      "weighted avg       0.61      0.61      0.61     18000\n",
      "\n"
     ]
    }
   ],
   "source": [
    "# Bernoulli Naive Bayes Classifier\n",
    "bern_clf = Pipeline([('tfidf', TfidfVectorizer()),\n",
    "                ('clf', BernoulliNB()),\n",
    "               ])\n",
    "\n",
    "# Fitting + Prediction\n",
    "bern_clf.fit(x_train.values.astype('U'),y_train)\n",
    "bern_prediction = bern_clf.predict(x_test.values.astype('U'))\n",
    "\n",
    "# Accuracy + Classification Report\n",
    "print('================= Bernoulli Naive Bayes =================')\n",
    "print(classification_report(y_test,bern_prediction))"
   ]
  }
 ],
 "metadata": {
  "kernelspec": {
   "display_name": "Python 3",
   "language": "python",
   "name": "python3"
  },
  "language_info": {
   "codemirror_mode": {
    "name": "ipython",
    "version": 3
   },
   "file_extension": ".py",
   "mimetype": "text/x-python",
   "name": "python",
   "nbconvert_exporter": "python",
   "pygments_lexer": "ipython3",
   "version": "3.10.11"
  }
 },
 "nbformat": 4,
 "nbformat_minor": 2
}
